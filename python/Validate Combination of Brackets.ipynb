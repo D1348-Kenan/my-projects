{
 "cells": [
  {
   "cell_type": "markdown",
   "metadata": {},
   "source": [
    "# Coding Challenge 004 : Validate Combination of Brackets\n",
    "\n",
    "Purpose of the this coding challenge is to solve a combination problem using loops.\n",
    "\n",
    "## Learning Outcomes\n",
    "\n",
    "At the end of the this coding challenge, students will be able to;\n",
    "\n",
    "- understand the use of loops.\n",
    "- solve the advanced and complicated problems.\n",
    "- understand the importance of pattern recognition.\n",
    "- get a better understanding in manipulating lists or strings.\n",
    "\n",
    "## Problem Statement\n",
    "  \n",
    "- Write a function that given a string containing just the characters `(`, `)`, `{`, `}`, `[` and `]`, determines if the input string is valid or not by using following rules.\n",
    "\n",
    "- An input string is valid if:\n",
    "\n",
    "  - Open brackets must be closed by the same type of brackets.\n",
    "\n",
    "  - Open brackets must be closed in the correct order.\n",
    "\n",
    "- Note that an empty string is also considered valid.\n",
    "\n",
    "- Example for user inputs and respective outputs\n",
    "\n",
    "```text\n",
    "Input           Output\n",
    "------------    ------\n",
    "\"()\"            true\n",
    "\"()[]{}\"        true\n",
    "\"(]\"            false\n",
    "\"([)]\"          false\n",
    "\"{[]}\"          true\n",
    "\"\"              true\n",
    "```"
   ]
  },
  {
   "cell_type": "code",
   "execution_count": 2,
   "metadata": {},
   "outputs": [
    {
     "name": "stdout",
     "output_type": "stream",
     "text": [
      "True\n",
      "True\n",
      "True\n"
     ]
    }
   ],
   "source": [
    "girdi = input(str(\"Lütfen iç içe olacak şekilde parantezler yazın ‘([{([[{([{}])}]])}]) gibi’ \"))\n",
    "say = list(girdi)\n",
    "uzunluk = len(say)\n",
    "orta = int(uzunluk/2)\n",
    "# print(“Girdinin uzunluğu “, uzunluk)\n",
    "# print(“Girdinin orta uzunluğu “, orta)\n",
    "i = 0\n",
    "for i in range(0,orta):\n",
    "  front = girdi[i]\n",
    "  back = girdi[-i-1]\n",
    "  # print(front, back)\n",
    "  k = ord(front)\n",
    "  m = ord (back)\n",
    "  # print(k, l)\n",
    "  if k == 40 and m == 41:\n",
    "    print(True)\n",
    "  elif k == 91 and m == 93:\n",
    "    print(True)\n",
    "  elif k == 123 and m == 125:\n",
    "    print(True)\n",
    "  else:\n",
    "    print(False)"
   ]
  }
 ],
 "metadata": {
  "interpreter": {
   "hash": "aee8b7b246df8f9039afb4144a1f6fd8d2ca17a180786b69acc140d282b71a49"
  },
  "kernelspec": {
   "display_name": "Python 3.10.1 64-bit",
   "language": "python",
   "name": "python3"
  },
  "language_info": {
   "codemirror_mode": {
    "name": "ipython",
    "version": 3
   },
   "file_extension": ".py",
   "mimetype": "text/x-python",
   "name": "python",
   "nbconvert_exporter": "python",
   "pygments_lexer": "ipython3",
   "version": "3.10.1"
  },
  "orig_nbformat": 4
 },
 "nbformat": 4,
 "nbformat_minor": 2
}
